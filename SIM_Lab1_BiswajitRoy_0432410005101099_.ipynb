{
  "cells": [
    {
      "cell_type": "markdown",
      "source": [
        "# **SIMULATION AND MODELING LAB - DAY 1**\n",
        "# CSE 413\n",
        "# Faculty Name: Audity Ghosh\n",
        "# Student: *Biswajit Roy* | ID: 0432410005101099\n",
        "---\n",
        "\n",
        "\n",
        "\n"
      ],
      "metadata": {
        "id": "isZt4ZmfGiJ6"
      },
      "id": "isZt4ZmfGiJ6"
    },
    {
      "cell_type": "code",
      "execution_count": 91,
      "id": "b97ed924",
      "metadata": {
        "id": "b97ed924"
      },
      "outputs": [],
      "source": [
        "import numpy as np\n",
        "import matplotlib.pyplot as plt\n",
        "import seaborn as sns\n",
        "import math"
      ]
    },
    {
      "cell_type": "code",
      "execution_count": 92,
      "id": "fdf389f6",
      "metadata": {
        "id": "fdf389f6"
      },
      "outputs": [],
      "source": [
        "# Task 1: Scalar & Array Operations"
      ]
    },
    {
      "cell_type": "code",
      "execution_count": 93,
      "id": "fb3dec50",
      "metadata": {
        "id": "fb3dec50"
      },
      "outputs": [],
      "source": [
        "scalar = 3.7\n",
        "array = np.array([1.2, 3.4, 5.6, 7.8, 9.0, 2.2])"
      ]
    },
    {
      "cell_type": "code",
      "execution_count": 94,
      "id": "4a6102b0",
      "metadata": {
        "colab": {
          "base_uri": "https://localhost:8080/"
        },
        "id": "4a6102b0",
        "outputId": "a5c8d4cb-4c3a-4ef9-b8df-3b817097bb0f"
      },
      "outputs": [
        {
          "output_type": "stream",
          "name": "stdout",
          "text": [
            "Original Array: [1.2 3.4 5.6 7.8 9.  2.2]\n",
            "Scalar: 3.7\n"
          ]
        }
      ],
      "source": [
        "print(\"Original Array:\", array)\n",
        "print(\"Scalar:\", scalar)"
      ]
    },
    {
      "cell_type": "code",
      "execution_count": 95,
      "id": "0381659f",
      "metadata": {
        "colab": {
          "base_uri": "https://localhost:8080/"
        },
        "id": "0381659f",
        "outputId": "82a43440-192f-4f02-d155-e5144d01fc08"
      },
      "outputs": [
        {
          "output_type": "stream",
          "name": "stdout",
          "text": [
            "Array * Scalar: [ 4.44 12.58 20.72 28.86 33.3   8.14]\n"
          ]
        }
      ],
      "source": [
        "# Scalar multiplication\n",
        "print(\"Array * Scalar:\", array * scalar)"
      ]
    },
    {
      "cell_type": "code",
      "execution_count": 96,
      "id": "c2c7b7f0",
      "metadata": {
        "colab": {
          "base_uri": "https://localhost:8080/"
        },
        "id": "c2c7b7f0",
        "outputId": "ac69f52e-6a45-4b81-f20f-f0f2c486fdae"
      },
      "outputs": [
        {
          "output_type": "stream",
          "name": "stdout",
          "text": [
            "sin: [ 0.93203909 -0.2555411  -0.63126664  0.99854335  0.41211849  0.8084964 ]\n",
            "cos: [ 0.36235775 -0.96679819  0.77556588  0.05395542 -0.91113026 -0.58850112]\n",
            "tan: [ 2.57215162  0.2643169  -0.81394328 18.50682165 -0.45231566 -1.37382306]\n",
            "arcsin (clipped): [0.12028988 0.3469169  0.5943858  0.89466582 1.11976951 0.22181447]\n",
            "arccos (clipped): [1.45050644 1.22387943 0.97641053 0.67613051 0.45102681 1.34898186]\n",
            "arctan: [0.87605805 1.28474489 1.39408747 1.44328677 1.46013911 1.14416883]\n",
            "exp: [3.32011692e+00 2.99641000e+01 2.70426407e+02 2.44060198e+03\n",
            " 8.10308393e+03 9.02501350e+00]\n",
            "log (clipped): [0.18232156 1.22377543 1.7227666  2.05412373 2.19722458 0.78845736]\n",
            "sqrt: [1.09544512 1.84390889 2.36643191 2.79284801 3.         1.4832397 ]\n",
            "abs: [1.2 3.4 5.6 7.8 9.  2.2]\n"
          ]
        }
      ],
      "source": [
        "# Built-in mathematical functions\n",
        "print(\"sin:\", np.sin(array))\n",
        "print(\"cos:\", np.cos(array))\n",
        "print(\"tan:\", np.tan(array))\n",
        "print(\"arcsin (clipped):\", np.arcsin(np.clip(array / 10, -1, 1)))\n",
        "print(\"arccos (clipped):\", np.arccos(np.clip(array / 10, -1, 1)))\n",
        "print(\"arctan:\", np.arctan(array))\n",
        "print(\"exp:\", np.exp(array))\n",
        "print(\"log (clipped):\", np.log(np.clip(array, 1e-10, None)))\n",
        "print(\"sqrt:\", np.sqrt(array))\n",
        "print(\"abs:\", np.abs(array))"
      ]
    },
    {
      "cell_type": "code",
      "execution_count": 97,
      "id": "74770a47",
      "metadata": {
        "id": "74770a47"
      },
      "outputs": [],
      "source": [
        "# Task 2: Matrix Operations on 3x2 Matrix"
      ]
    },
    {
      "cell_type": "code",
      "execution_count": 98,
      "id": "04997d7f",
      "metadata": {
        "id": "04997d7f"
      },
      "outputs": [],
      "source": [
        "matrix = np.array([[1.5, 2.3],\n",
        "                   [3.1, 4.0],\n",
        "                   [5.7, 6.6]])"
      ]
    },
    {
      "cell_type": "code",
      "execution_count": 99,
      "id": "0f890491",
      "metadata": {
        "colab": {
          "base_uri": "https://localhost:8080/"
        },
        "id": "0f890491",
        "outputId": "91d9b0da-1b5e-48dd-809d-b1af4b71358a"
      },
      "outputs": [
        {
          "output_type": "stream",
          "name": "stdout",
          "text": [
            "\n",
            "Original 3x2 Matrix:\n",
            " [[1.5 2.3]\n",
            " [3.1 4. ]\n",
            " [5.7 6.6]]\n"
          ]
        }
      ],
      "source": [
        "print(\"\\nOriginal 3x2 Matrix:\\n\", matrix)"
      ]
    },
    {
      "cell_type": "code",
      "execution_count": 100,
      "id": "a9c011ee",
      "metadata": {
        "colab": {
          "base_uri": "https://localhost:8080/"
        },
        "id": "a9c011ee",
        "outputId": "46cec117-924b-41a3-ccde-1181fcdaf03c"
      },
      "outputs": [
        {
          "output_type": "stream",
          "name": "stdout",
          "text": [
            "\n",
            "Trigonometric:\n",
            "sin:\n",
            " [[ 0.99749499  0.74570521]\n",
            " [ 0.04158066 -0.7568025 ]\n",
            " [-0.55068554  0.31154136]]\n",
            "cos:\n",
            " [[ 0.0707372  -0.66627602]\n",
            " [-0.99913515 -0.65364362]\n",
            " [ 0.83471278  0.95023259]]\n",
            "tan:\n",
            " [[14.10141995 -1.11921364]\n",
            " [-0.04161665  1.15782128]\n",
            " [-0.65973057  0.32785801]]\n"
          ]
        }
      ],
      "source": [
        "print(\"\\nTrigonometric:\")\n",
        "print(\"sin:\\n\", np.sin(matrix))\n",
        "print(\"cos:\\n\", np.cos(matrix))\n",
        "print(\"tan:\\n\", np.tan(matrix))"
      ]
    },
    {
      "cell_type": "code",
      "execution_count": 101,
      "id": "0219c991",
      "metadata": {
        "colab": {
          "base_uri": "https://localhost:8080/"
        },
        "id": "0219c991",
        "outputId": "d5ebdfa0-a755-4a76-ed35-1254ce6959d1"
      },
      "outputs": [
        {
          "output_type": "stream",
          "name": "stdout",
          "text": [
            "\n",
            "Exponential & Logarithmic:\n",
            "exp:\n",
            " [[  4.48168907   9.97418245]\n",
            " [ 22.19795128  54.59815003]\n",
            " [298.86740097 735.09518924]]\n",
            "log (clipped):\n",
            " [[0.40546511 0.83290912]\n",
            " [1.13140211 1.38629436]\n",
            " [1.74046617 1.88706965]]\n"
          ]
        }
      ],
      "source": [
        "print(\"\\nExponential & Logarithmic:\")\n",
        "print(\"exp:\\n\", np.exp(matrix))\n",
        "print(\"log (clipped):\\n\", np.log(np.clip(matrix, 1e-10, None)))"
      ]
    },
    {
      "cell_type": "code",
      "execution_count": 102,
      "id": "45ad44ca",
      "metadata": {
        "colab": {
          "base_uri": "https://localhost:8080/"
        },
        "id": "45ad44ca",
        "outputId": "333d1e24-39cc-4cd8-c5c5-4da4f775d0c9"
      },
      "outputs": [
        {
          "output_type": "stream",
          "name": "stdout",
          "text": [
            "\n",
            "Abs & Sqrt:\n",
            "abs:\n",
            " [[1.5 2.3]\n",
            " [3.1 4. ]\n",
            " [5.7 6.6]]\n",
            "sqrt:\n",
            " [[1.22474487 1.51657509]\n",
            " [1.76068169 2.        ]\n",
            " [2.38746728 2.56904652]]\n"
          ]
        }
      ],
      "source": [
        "print(\"\\nAbs & Sqrt:\")\n",
        "print(\"abs:\\n\", np.abs(matrix))\n",
        "print(\"sqrt:\\n\", np.sqrt(matrix))"
      ]
    },
    {
      "cell_type": "code",
      "execution_count": 103,
      "id": "0be6b052",
      "metadata": {
        "colab": {
          "base_uri": "https://localhost:8080/"
        },
        "id": "0be6b052",
        "outputId": "77c4f42e-22ef-4c49-a1c6-250baf58cd43"
      },
      "outputs": [
        {
          "output_type": "stream",
          "name": "stdout",
          "text": [
            "\n",
            "Modulo 2 (remainder):\n",
            " [[1.5 0.3]\n",
            " [1.1 0. ]\n",
            " [1.7 0.6]]\n"
          ]
        }
      ],
      "source": [
        "print(\"\\nModulo 2 (remainder):\\n\", np.remainder(matrix, 2))"
      ]
    },
    {
      "cell_type": "code",
      "execution_count": 104,
      "id": "5f3cfb9d",
      "metadata": {
        "colab": {
          "base_uri": "https://localhost:8080/"
        },
        "id": "5f3cfb9d",
        "outputId": "e582f394-4a7b-4477-d18c-90e23cacf046"
      },
      "outputs": [
        {
          "output_type": "stream",
          "name": "stdout",
          "text": [
            "\n",
            "Rounding:\n",
            "round:\n",
            " [[2. 2.]\n",
            " [3. 4.]\n",
            " [6. 7.]]\n",
            "floor:\n",
            " [[1. 2.]\n",
            " [3. 4.]\n",
            " [5. 6.]]\n",
            "ceil:\n",
            " [[2. 3.]\n",
            " [4. 4.]\n",
            " [6. 7.]]\n"
          ]
        }
      ],
      "source": [
        "print(\"\\nRounding:\")\n",
        "print(\"round:\\n\", np.round(matrix))\n",
        "print(\"floor:\\n\", np.floor(matrix))\n",
        "print(\"ceil:\\n\", np.ceil(matrix))"
      ]
    },
    {
      "cell_type": "code",
      "execution_count": 105,
      "id": "d9a92124",
      "metadata": {
        "id": "d9a92124"
      },
      "outputs": [],
      "source": [
        "# Task 3: Vector Functions on 2x3 Matrix"
      ]
    },
    {
      "cell_type": "code",
      "execution_count": 106,
      "id": "6fdc726c",
      "metadata": {
        "id": "6fdc726c"
      },
      "outputs": [],
      "source": [
        "vec_matrix = np.array([[2.1, 4.7, 1.5],\n",
        "                       [6.3, 3.2, 5.8]])"
      ]
    },
    {
      "cell_type": "code",
      "execution_count": 107,
      "id": "e7a31bfd",
      "metadata": {
        "colab": {
          "base_uri": "https://localhost:8080/"
        },
        "id": "e7a31bfd",
        "outputId": "2cbe6081-e75a-4083-9b27-5b02c4ba29ff"
      },
      "outputs": [
        {
          "output_type": "stream",
          "name": "stdout",
          "text": [
            "\n",
            "Original 2x3 Matrix:\n",
            " [[2.1 4.7 1.5]\n",
            " [6.3 3.2 5.8]]\n"
          ]
        }
      ],
      "source": [
        "print(\"\\nOriginal 2x3 Matrix:\\n\", vec_matrix)"
      ]
    },
    {
      "cell_type": "code",
      "execution_count": 108,
      "id": "6b420c02",
      "metadata": {
        "colab": {
          "base_uri": "https://localhost:8080/"
        },
        "id": "6b420c02",
        "outputId": "742cc797-7f25-48c2-c1a8-48d20ccd009b"
      },
      "outputs": [
        {
          "output_type": "stream",
          "name": "stdout",
          "text": [
            "\n",
            "Max & Min:\n",
            "Max Value: 6.3\n",
            "Max Index (flattened): 3\n",
            "Min Value: 1.5\n",
            "Min Index (flattened): 2\n"
          ]
        }
      ],
      "source": [
        "print(\"\\nMax & Min:\")\n",
        "print(\"Max Value:\", np.max(vec_matrix))\n",
        "print(\"Max Index (flattened):\", np.argmax(vec_matrix))\n",
        "print(\"Min Value:\", np.min(vec_matrix))\n",
        "print(\"Min Index (flattened):\", np.argmin(vec_matrix))"
      ]
    },
    {
      "cell_type": "code",
      "execution_count": 109,
      "id": "593cd4b9",
      "metadata": {
        "colab": {
          "base_uri": "https://localhost:8080/"
        },
        "id": "593cd4b9",
        "outputId": "15959eea-b1d4-4dea-aab1-37514c8ea64e"
      },
      "outputs": [
        {
          "output_type": "stream",
          "name": "stdout",
          "text": [
            "\n",
            "Vector Length: 10.598113039593416\n"
          ]
        }
      ],
      "source": [
        "print(\"\\nVector Length:\", np.linalg.norm(vec_matrix))"
      ]
    },
    {
      "cell_type": "code",
      "execution_count": 110,
      "id": "a5c02f8a",
      "metadata": {
        "colab": {
          "base_uri": "https://localhost:8080/"
        },
        "id": "a5c02f8a",
        "outputId": "29b59ad9-ab33-4b3e-fb61-fb3cf48bf9d4"
      },
      "outputs": [
        {
          "output_type": "stream",
          "name": "stdout",
          "text": [
            "\n",
            "Sorting:\n",
            "Row-wise Descending:\n",
            " [[4.7 2.1 1.5]\n",
            " [6.3 5.8 3.2]]\n",
            "Entire Matrix Descending:\n",
            " [6.3 5.8 4.7 3.2 2.1 1.5]\n"
          ]
        }
      ],
      "source": [
        "print(\"\\nSorting:\")\n",
        "print(\"Row-wise Descending:\\n\", np.sort(vec_matrix)[:, ::-1])\n",
        "print(\"Entire Matrix Descending:\\n\", np.sort(vec_matrix.flatten())[::-1])"
      ]
    },
    {
      "cell_type": "code",
      "execution_count": 111,
      "id": "221bb1c2",
      "metadata": {
        "colab": {
          "base_uri": "https://localhost:8080/"
        },
        "id": "221bb1c2",
        "outputId": "70eac621-f35c-4b84-dcaf-3a0e10709a02"
      },
      "outputs": [
        {
          "output_type": "stream",
          "name": "stdout",
          "text": [
            "\n",
            "Sum: 23.6\n",
            "Product: 1731.1190400000003\n",
            "Median: 3.95\n",
            "Mean: 3.9333333333333336\n",
            "Standard Deviation: 1.8024674446127698\n"
          ]
        }
      ],
      "source": [
        "print(\"\\nSum:\", np.sum(vec_matrix))\n",
        "print(\"Product:\", np.prod(vec_matrix))\n",
        "print(\"Median:\", np.median(vec_matrix))\n",
        "print(\"Mean:\", np.mean(vec_matrix))\n",
        "print(\"Standard Deviation:\", np.std(vec_matrix))"
      ]
    },
    {
      "cell_type": "code",
      "execution_count": 112,
      "id": "09e96e1a",
      "metadata": {
        "id": "09e96e1a"
      },
      "outputs": [],
      "source": [
        "# Visualization + Random Numbers"
      ]
    },
    {
      "cell_type": "code",
      "execution_count": 113,
      "id": "c44e133b",
      "metadata": {
        "colab": {
          "base_uri": "https://localhost:8080/",
          "height": 391
        },
        "id": "c44e133b",
        "outputId": "b1e013fb-2bfd-414a-ad96-400f9e00a2ea"
      },
      "outputs": [
        {
          "output_type": "display_data",
          "data": {
            "text/plain": [
              "<Figure size 500x400 with 2 Axes>"
            ],
            "image/png": "[encoded data removed]"
          },
          "metadata": {}
        }
      ],
      "source": [
        "# Heatmap\n",
        "plt.figure(figsize=(5, 4))\n",
        "sns.heatmap(vec_matrix, annot=True, cmap=\"YlGnBu\")\n",
        "plt.title(\"Heatmap of 2x3 Matrix\")\n",
        "plt.show()"
      ]
    },
    {
      "cell_type": "code",
      "execution_count": 114,
      "id": "0fcd051d",
      "metadata": {
        "colab": {
          "base_uri": "https://localhost:8080/"
        },
        "id": "0fcd051d",
        "outputId": "2e51f2b1-5faa-4fdd-c7bc-b60cde2920b8"
      },
      "outputs": [
        {
          "output_type": "stream",
          "name": "stdout",
          "text": [
            "\n",
            "Random 3x3 Matrix:\n",
            " [[4.00334928 5.26341959 1.92481708]\n",
            " [9.34717174 5.542385   4.01562085]\n",
            " [6.60022814 3.9473133  8.60647404]]\n"
          ]
        }
      ],
      "source": [
        "# Random Matrix\n",
        "rand_matrix = np.random.uniform(1.0, 10.0, size=(3, 3))\n",
        "print(\"\\nRandom 3x3 Matrix:\\n\", rand_matrix)"
      ]
    },
    {
      "cell_type": "code",
      "execution_count": 115,
      "id": "44aa36e2",
      "metadata": {
        "colab": {
          "base_uri": "https://localhost:8080/",
          "height": 391
        },
        "id": "44aa36e2",
        "outputId": "8e57101d-3ff0-44d6-a2be-cecaadf59f9a"
      },
      "outputs": [
        {
          "output_type": "display_data",
          "data": {
            "text/plain": [
              "<Figure size 500x400 with 2 Axes>"
            ],
            "image/png": "[encoded data removed]"
          },
          "metadata": {}
        }
      ],
      "source": [
        "plt.figure(figsize=(5, 4))\n",
        "sns.heatmap(rand_matrix, annot=True, cmap=\"magma\")\n",
        "plt.title(\"Heatmap of Random 3x3 Matrix\")\n",
        "plt.show()\n"
      ]
    }
  ],
  "metadata": {
    "colab": {
      "provenance": []
    },
    "language_info": {
      "name": "python"
    },
    "kernelspec": {
      "name": "python3",
      "display_name": "Python 3"
    }
  },
  "nbformat": 4,
  "nbformat_minor": 5
}